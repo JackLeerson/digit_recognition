{
 "cells": [
  {
   "cell_type": "code",
   "execution_count": 1,
   "id": "0f908359",
   "metadata": {},
   "outputs": [],
   "source": [
    "import pandas as pd\n",
    "import numpy as np\n",
    "import tensorflow as tf\n",
    "import matplotlib.pyplot as plt\n",
    "\n",
    "%matplotlib inline"
   ]
  },
  {
   "cell_type": "code",
   "execution_count": 2,
   "id": "4cfd65d3",
   "metadata": {
    "scrolled": true
   },
   "outputs": [
    {
     "name": "stdout",
     "output_type": "stream",
     "text": [
      "(60000, 28, 28)\n",
      "(60000,)\n",
      "(10000, 28, 28)\n",
      "(10000,)\n"
     ]
    }
   ],
   "source": [
    "# Import MNIST dataset\n",
    "(x_train, y_train), (x_test, y_test) = tf.keras.datasets.mnist.load_data()\n",
    "print(x_train.shape)\n",
    "print(y_train.shape)\n",
    "print(x_test.shape)\n",
    "print(y_test.shape)"
   ]
  },
  {
   "cell_type": "code",
   "execution_count": 3,
   "id": "b7a7ebec",
   "metadata": {},
   "outputs": [],
   "source": [
    "# Convert to One-hot encoded\n",
    "y_train = tf.keras.utils.to_categorical(y_train)\n",
    "y_test = tf.keras.utils.to_categorical(y_test)"
   ]
  },
  {
   "cell_type": "code",
   "execution_count": 4,
   "id": "55f40457",
   "metadata": {},
   "outputs": [
    {
     "name": "stdout",
     "output_type": "stream",
     "text": [
      "<class 'numpy.ndarray'>\n",
      "[[  0   0   0   0   0   0   0   0   0   0   0   0   0   0   0   0   0   0\n",
      "    0   0   0   0   0   0   0   0   0   0]\n",
      " [  0   0   0   0   0   0   0   0   0   0   0   0   0   0   0   0   0   0\n",
      "    0   0   0   0   0   0   0   0   0   0]\n",
      " [  0   0   0   0   0   0   0   0   0   0   0   0   0   0   0   0   0   0\n",
      "    0   0   0   0   0   0   0   0   0   0]\n",
      " [  0   0   0   0   0   0   0   0   0   0   0   0   0   0   0   0   0   0\n",
      "    0   0   0   0   0   0   0   0   0   0]\n",
      " [  0   0   0   0   0   0   0   0   0   0   0   0   0   0   0   0   0   0\n",
      "    0   0   0   0   0   0   0   0   0   0]\n",
      " [  0   0   0   0   0   0   0   0   0   0   0   0   3  18  18  18 126 136\n",
      "  175  26 166 255 247 127   0   0   0   0]\n",
      " [  0   0   0   0   0   0   0   0  30  36  94 154 170 253 253 253 253 253\n",
      "  225 172 253 242 195  64   0   0   0   0]\n",
      " [  0   0   0   0   0   0   0  49 238 253 253 253 253 253 253 253 253 251\n",
      "   93  82  82  56  39   0   0   0   0   0]\n",
      " [  0   0   0   0   0   0   0  18 219 253 253 253 253 253 198 182 247 241\n",
      "    0   0   0   0   0   0   0   0   0   0]\n",
      " [  0   0   0   0   0   0   0   0  80 156 107 253 253 205  11   0  43 154\n",
      "    0   0   0   0   0   0   0   0   0   0]\n",
      " [  0   0   0   0   0   0   0   0   0  14   1 154 253  90   0   0   0   0\n",
      "    0   0   0   0   0   0   0   0   0   0]\n",
      " [  0   0   0   0   0   0   0   0   0   0   0 139 253 190   2   0   0   0\n",
      "    0   0   0   0   0   0   0   0   0   0]\n",
      " [  0   0   0   0   0   0   0   0   0   0   0  11 190 253  70   0   0   0\n",
      "    0   0   0   0   0   0   0   0   0   0]\n",
      " [  0   0   0   0   0   0   0   0   0   0   0   0  35 241 225 160 108   1\n",
      "    0   0   0   0   0   0   0   0   0   0]\n",
      " [  0   0   0   0   0   0   0   0   0   0   0   0   0  81 240 253 253 119\n",
      "   25   0   0   0   0   0   0   0   0   0]\n",
      " [  0   0   0   0   0   0   0   0   0   0   0   0   0   0  45 186 253 253\n",
      "  150  27   0   0   0   0   0   0   0   0]\n",
      " [  0   0   0   0   0   0   0   0   0   0   0   0   0   0   0  16  93 252\n",
      "  253 187   0   0   0   0   0   0   0   0]\n",
      " [  0   0   0   0   0   0   0   0   0   0   0   0   0   0   0   0   0 249\n",
      "  253 249  64   0   0   0   0   0   0   0]\n",
      " [  0   0   0   0   0   0   0   0   0   0   0   0   0   0  46 130 183 253\n",
      "  253 207   2   0   0   0   0   0   0   0]\n",
      " [  0   0   0   0   0   0   0   0   0   0   0   0  39 148 229 253 253 253\n",
      "  250 182   0   0   0   0   0   0   0   0]\n",
      " [  0   0   0   0   0   0   0   0   0   0  24 114 221 253 253 253 253 201\n",
      "   78   0   0   0   0   0   0   0   0   0]\n",
      " [  0   0   0   0   0   0   0   0  23  66 213 253 253 253 253 198  81   2\n",
      "    0   0   0   0   0   0   0   0   0   0]\n",
      " [  0   0   0   0   0   0  18 171 219 253 253 253 253 195  80   9   0   0\n",
      "    0   0   0   0   0   0   0   0   0   0]\n",
      " [  0   0   0   0  55 172 226 253 253 253 253 244 133  11   0   0   0   0\n",
      "    0   0   0   0   0   0   0   0   0   0]\n",
      " [  0   0   0   0 136 253 253 253 212 135 132  16   0   0   0   0   0   0\n",
      "    0   0   0   0   0   0   0   0   0   0]\n",
      " [  0   0   0   0   0   0   0   0   0   0   0   0   0   0   0   0   0   0\n",
      "    0   0   0   0   0   0   0   0   0   0]\n",
      " [  0   0   0   0   0   0   0   0   0   0   0   0   0   0   0   0   0   0\n",
      "    0   0   0   0   0   0   0   0   0   0]\n",
      " [  0   0   0   0   0   0   0   0   0   0   0   0   0   0   0   0   0   0\n",
      "    0   0   0   0   0   0   0   0   0   0]]\n",
      "[0. 0. 0. 0. 0. 1. 0. 0. 0. 0.]\n"
     ]
    }
   ],
   "source": [
    "# Print a training example\n",
    "print(type(x_train))\n",
    "print(x_train[0])\n",
    "print(y_train[0])"
   ]
  },
  {
   "cell_type": "code",
   "execution_count": 5,
   "id": "9206054c",
   "metadata": {},
   "outputs": [
    {
     "data": {
      "text/plain": [
       "<matplotlib.image.AxesImage at 0x23d9585f430>"
      ]
     },
     "execution_count": 5,
     "metadata": {},
     "output_type": "execute_result"
    },
    {
     "data": {
      "image/png": "[encoded data removed]",
      "text/plain": [
       "<Figure size 432x288 with 1 Axes>"
      ]
     },
     "metadata": {
      "needs_background": "light"
     },
     "output_type": "display_data"
    }
   ],
   "source": [
    "# Visualise image in matlab\n",
    "plt.imshow(x_train[0], cmap='gray')"
   ]
  },
  {
   "cell_type": "code",
   "execution_count": 6,
   "id": "7e7f4277",
   "metadata": {},
   "outputs": [],
   "source": [
    "# Now let's normalise the data to between 0 and 1\n",
    "x_train = x_train/255.0\n",
    "x_test = x_test/255.0"
   ]
  },
  {
   "cell_type": "code",
   "execution_count": 7,
   "id": "eceadb69",
   "metadata": {},
   "outputs": [
    {
     "name": "stdout",
     "output_type": "stream",
     "text": [
      "[[0.         0.         0.         0.         0.         0.\n",
      "  0.         0.         0.         0.         0.         0.\n",
      "  0.         0.         0.         0.         0.         0.\n",
      "  0.         0.         0.         0.         0.         0.\n",
      "  0.         0.         0.         0.        ]\n",
      " [0.         0.         0.         0.         0.         0.\n",
      "  0.         0.         0.         0.         0.         0.\n",
      "  0.         0.         0.         0.         0.         0.\n",
      "  0.         0.         0.         0.         0.         0.\n",
      "  0.         0.         0.         0.        ]\n",
      " [0.         0.         0.         0.         0.         0.\n",
      "  0.         0.         0.         0.         0.         0.\n",
      "  0.         0.         0.         0.         0.         0.\n",
      "  0.         0.         0.         0.         0.         0.\n",
      "  0.         0.         0.         0.        ]\n",
      " [0.         0.         0.         0.         0.         0.\n",
      "  0.         0.         0.         0.         0.         0.\n",
      "  0.         0.         0.         0.         0.         0.\n",
      "  0.         0.         0.         0.         0.         0.\n",
      "  0.         0.         0.         0.        ]\n",
      " [0.         0.         0.         0.         0.         0.\n",
      "  0.         0.         0.         0.         0.         0.\n",
      "  0.         0.         0.         0.         0.         0.\n",
      "  0.         0.         0.         0.         0.         0.\n",
      "  0.         0.         0.         0.        ]\n",
      " [0.         0.         0.         0.         0.         0.\n",
      "  0.         0.         0.         0.         0.         0.\n",
      "  0.01176471 0.07058824 0.07058824 0.07058824 0.49411765 0.53333333\n",
      "  0.68627451 0.10196078 0.65098039 1.         0.96862745 0.49803922\n",
      "  0.         0.         0.         0.        ]\n",
      " [0.         0.         0.         0.         0.         0.\n",
      "  0.         0.         0.11764706 0.14117647 0.36862745 0.60392157\n",
      "  0.66666667 0.99215686 0.99215686 0.99215686 0.99215686 0.99215686\n",
      "  0.88235294 0.6745098  0.99215686 0.94901961 0.76470588 0.25098039\n",
      "  0.         0.         0.         0.        ]\n",
      " [0.         0.         0.         0.         0.         0.\n",
      "  0.         0.19215686 0.93333333 0.99215686 0.99215686 0.99215686\n",
      "  0.99215686 0.99215686 0.99215686 0.99215686 0.99215686 0.98431373\n",
      "  0.36470588 0.32156863 0.32156863 0.21960784 0.15294118 0.\n",
      "  0.         0.         0.         0.        ]\n",
      " [0.         0.         0.         0.         0.         0.\n",
      "  0.         0.07058824 0.85882353 0.99215686 0.99215686 0.99215686\n",
      "  0.99215686 0.99215686 0.77647059 0.71372549 0.96862745 0.94509804\n",
      "  0.         0.         0.         0.         0.         0.\n",
      "  0.         0.         0.         0.        ]\n",
      " [0.         0.         0.         0.         0.         0.\n",
      "  0.         0.         0.31372549 0.61176471 0.41960784 0.99215686\n",
      "  0.99215686 0.80392157 0.04313725 0.         0.16862745 0.60392157\n",
      "  0.         0.         0.         0.         0.         0.\n",
      "  0.         0.         0.         0.        ]\n",
      " [0.         0.         0.         0.         0.         0.\n",
      "  0.         0.         0.         0.05490196 0.00392157 0.60392157\n",
      "  0.99215686 0.35294118 0.         0.         0.         0.\n",
      "  0.         0.         0.         0.         0.         0.\n",
      "  0.         0.         0.         0.        ]\n",
      " [0.         0.         0.         0.         0.         0.\n",
      "  0.         0.         0.         0.         0.         0.54509804\n",
      "  0.99215686 0.74509804 0.00784314 0.         0.         0.\n",
      "  0.         0.         0.         0.         0.         0.\n",
      "  0.         0.         0.         0.        ]\n",
      " [0.         0.         0.         0.         0.         0.\n",
      "  0.         0.         0.         0.         0.         0.04313725\n",
      "  0.74509804 0.99215686 0.2745098  0.         0.         0.\n",
      "  0.         0.         0.         0.         0.         0.\n",
      "  0.         0.         0.         0.        ]\n",
      " [0.         0.         0.         0.         0.         0.\n",
      "  0.         0.         0.         0.         0.         0.\n",
      "  0.1372549  0.94509804 0.88235294 0.62745098 0.42352941 0.00392157\n",
      "  0.         0.         0.         0.         0.         0.\n",
      "  0.         0.         0.         0.        ]\n",
      " [0.         0.         0.         0.         0.         0.\n",
      "  0.         0.         0.         0.         0.         0.\n",
      "  0.         0.31764706 0.94117647 0.99215686 0.99215686 0.46666667\n",
      "  0.09803922 0.         0.         0.         0.         0.\n",
      "  0.         0.         0.         0.        ]\n",
      " [0.         0.         0.         0.         0.         0.\n",
      "  0.         0.         0.         0.         0.         0.\n",
      "  0.         0.         0.17647059 0.72941176 0.99215686 0.99215686\n",
      "  0.58823529 0.10588235 0.         0.         0.         0.\n",
      "  0.         0.         0.         0.        ]\n",
      " [0.         0.         0.         0.         0.         0.\n",
      "  0.         0.         0.         0.         0.         0.\n",
      "  0.         0.         0.         0.0627451  0.36470588 0.98823529\n",
      "  0.99215686 0.73333333 0.         0.         0.         0.\n",
      "  0.         0.         0.         0.        ]\n",
      " [0.         0.         0.         0.         0.         0.\n",
      "  0.         0.         0.         0.         0.         0.\n",
      "  0.         0.         0.         0.         0.         0.97647059\n",
      "  0.99215686 0.97647059 0.25098039 0.         0.         0.\n",
      "  0.         0.         0.         0.        ]\n",
      " [0.         0.         0.         0.         0.         0.\n",
      "  0.         0.         0.         0.         0.         0.\n",
      "  0.         0.         0.18039216 0.50980392 0.71764706 0.99215686\n",
      "  0.99215686 0.81176471 0.00784314 0.         0.         0.\n",
      "  0.         0.         0.         0.        ]\n",
      " [0.         0.         0.         0.         0.         0.\n",
      "  0.         0.         0.         0.         0.         0.\n",
      "  0.15294118 0.58039216 0.89803922 0.99215686 0.99215686 0.99215686\n",
      "  0.98039216 0.71372549 0.         0.         0.         0.\n",
      "  0.         0.         0.         0.        ]\n",
      " [0.         0.         0.         0.         0.         0.\n",
      "  0.         0.         0.         0.         0.09411765 0.44705882\n",
      "  0.86666667 0.99215686 0.99215686 0.99215686 0.99215686 0.78823529\n",
      "  0.30588235 0.         0.         0.         0.         0.\n",
      "  0.         0.         0.         0.        ]\n",
      " [0.         0.         0.         0.         0.         0.\n",
      "  0.         0.         0.09019608 0.25882353 0.83529412 0.99215686\n",
      "  0.99215686 0.99215686 0.99215686 0.77647059 0.31764706 0.00784314\n",
      "  0.         0.         0.         0.         0.         0.\n",
      "  0.         0.         0.         0.        ]\n",
      " [0.         0.         0.         0.         0.         0.\n",
      "  0.07058824 0.67058824 0.85882353 0.99215686 0.99215686 0.99215686\n",
      "  0.99215686 0.76470588 0.31372549 0.03529412 0.         0.\n",
      "  0.         0.         0.         0.         0.         0.\n",
      "  0.         0.         0.         0.        ]\n",
      " [0.         0.         0.         0.         0.21568627 0.6745098\n",
      "  0.88627451 0.99215686 0.99215686 0.99215686 0.99215686 0.95686275\n",
      "  0.52156863 0.04313725 0.         0.         0.         0.\n",
      "  0.         0.         0.         0.         0.         0.\n",
      "  0.         0.         0.         0.        ]\n",
      " [0.         0.         0.         0.         0.53333333 0.99215686\n",
      "  0.99215686 0.99215686 0.83137255 0.52941176 0.51764706 0.0627451\n",
      "  0.         0.         0.         0.         0.         0.\n",
      "  0.         0.         0.         0.         0.         0.\n",
      "  0.         0.         0.         0.        ]\n",
      " [0.         0.         0.         0.         0.         0.\n",
      "  0.         0.         0.         0.         0.         0.\n",
      "  0.         0.         0.         0.         0.         0.\n",
      "  0.         0.         0.         0.         0.         0.\n",
      "  0.         0.         0.         0.        ]\n",
      " [0.         0.         0.         0.         0.         0.\n",
      "  0.         0.         0.         0.         0.         0.\n",
      "  0.         0.         0.         0.         0.         0.\n",
      "  0.         0.         0.         0.         0.         0.\n",
      "  0.         0.         0.         0.        ]\n",
      " [0.         0.         0.         0.         0.         0.\n",
      "  0.         0.         0.         0.         0.         0.\n",
      "  0.         0.         0.         0.         0.         0.\n",
      "  0.         0.         0.         0.         0.         0.\n",
      "  0.         0.         0.         0.        ]]\n"
     ]
    }
   ],
   "source": [
    "print(x_train[0])"
   ]
  },
  {
   "cell_type": "code",
   "execution_count": 8,
   "id": "cab62306",
   "metadata": {},
   "outputs": [
    {
     "name": "stdout",
     "output_type": "stream",
     "text": [
      "[900. 100.]\n",
      "[900. 100.]\n"
     ]
    }
   ],
   "source": [
    "# First thing's first, let's create a function to plot our model's performance over time. What metric should we measure?\n",
    "# It's a classification problem, and let's check the class distribution we are training and testing on.\n",
    "\n",
    "countsTrain = np.unique(y_train, return_counts=True)[1]\n",
    "percentageFrequencyTrain = (countsTrain*100)/len(y_train)\n",
    "print(percentageFrequencyTrain)\n",
    "\n",
    "countsTest = np.unique(y_test, return_counts=True)[1]\n",
    "percentageFrequencyTest = (countsTest*100)/len(y_test)\n",
    "print(percentageFrequencyTest)"
   ]
  },
  {
   "cell_type": "code",
   "execution_count": 9,
   "id": "72d41248",
   "metadata": {},
   "outputs": [],
   "source": [
    "# As the relative frequencies of the classes are similar, we should look at accuracy. Let's create a function to plot\n",
    "# the accuracy over time.\n",
    "\n",
    "def plot_accuracy(epochs, metrics):\n",
    "    fig, ax = plt.subplots()\n",
    "    ax.set_xlabel('Epochs')\n",
    "    ax.set_ylabel('Metrics')\n",
    "    ax.set_title('Training Curve')\n",
    "    \n",
    "    for metric in metrics.columns:\n",
    "        y = metrics[metric]\n",
    "        ax.plot(epochs, y, label=metric)\n",
    "        \n",
    "    ax.legend()"
   ]
  },
  {
   "cell_type": "code",
   "execution_count": 14,
   "id": "d9506d08",
   "metadata": {},
   "outputs": [],
   "source": [
    "# Let's train a normal DNN and see how well it works.\n",
    "\n",
    "def create_model_DNN(learning_rate):\n",
    "    \n",
    "    model = tf.keras.models.Sequential()\n",
    "    \n",
    "    # Flatten the image into an array\n",
    "    model.add(tf.keras.layers.Flatten(input_shape=(28, 28)))\n",
    "    \n",
    "    # Simple hidden layers\n",
    "    model.add(tf.keras.layers.Dense(units=64, activation='relu'))\n",
    "    model.add(tf.keras.layers.Dense(units=32, activation='relu'))\n",
    "    model.add(tf.keras.layers.Dense(units=32, activation='relu'))\n",
    "    \n",
    "    # Output layer using softmax\n",
    "    model.add(tf.keras.layers.Dense(units=10, activation='softmax'))\n",
    "    \n",
    "    model.compile(tf.keras.optimizers.Adam(learning_rate=learning_rate), \n",
    "                  loss='categorical_crossentropy', \n",
    "                  metrics=['accuracy'])\n",
    "    \n",
    "    return model"
   ]
  },
  {
   "cell_type": "code",
   "execution_count": 15,
   "id": "224727fa",
   "metadata": {},
   "outputs": [],
   "source": [
    "def train_model_DNN(model, features, labels, batch_size, epochs):\n",
    "    \n",
    "    history = model.fit(x=features, y=labels, batch_size=batch_size, epochs=epochs, shuffle=True)\n",
    "    \n",
    "    epochs = history.epoch\n",
    "    metrics = pd.DataFrame(history.history)\n",
    "    return epochs, metrics"
   ]
  },
  {
   "cell_type": "code",
   "execution_count": 16,
   "id": "aac0f9bb",
   "metadata": {},
   "outputs": [
    {
     "name": "stdout",
     "output_type": "stream",
     "text": [
      "Epoch 1/15\n",
      "469/469 [==============================] - 2s 4ms/step - loss: 0.3354 - accuracy: 0.9004\n",
      "Epoch 2/15\n",
      "469/469 [==============================] - 2s 4ms/step - loss: 0.1953 - accuracy: 0.9454\n",
      "Epoch 3/15\n",
      "469/469 [==============================] - 2s 3ms/step - loss: 0.1762 - accuracy: 0.9512\n",
      "Epoch 4/15\n",
      "469/469 [==============================] - 1s 3ms/step - loss: 0.1579 - accuracy: 0.9587\n",
      "Epoch 5/15\n",
      "469/469 [==============================] - 1s 3ms/step - loss: 0.1497 - accuracy: 0.9603\n",
      "Epoch 6/15\n",
      "469/469 [==============================] - 1s 3ms/step - loss: 0.1420 - accuracy: 0.9629\n",
      "Epoch 7/15\n",
      "469/469 [==============================] - 2s 3ms/step - loss: 0.1433 - accuracy: 0.9635\n",
      "Epoch 8/15\n",
      "469/469 [==============================] - 1s 3ms/step - loss: 0.1400 - accuracy: 0.9642\n",
      "Epoch 9/15\n",
      "469/469 [==============================] - 1s 3ms/step - loss: 0.1348 - accuracy: 0.9657\n",
      "Epoch 10/15\n",
      "469/469 [==============================] - 1s 3ms/step - loss: 0.1237 - accuracy: 0.9689\n",
      "Epoch 11/15\n",
      "469/469 [==============================] - 2s 3ms/step - loss: 0.1271 - accuracy: 0.9679\n",
      "Epoch 12/15\n",
      "469/469 [==============================] - 2s 3ms/step - loss: 0.1286 - accuracy: 0.9682\n",
      "Epoch 13/15\n",
      "469/469 [==============================] - 2s 3ms/step - loss: 0.1267 - accuracy: 0.9692\n",
      "Epoch 14/15\n",
      "469/469 [==============================] - 1s 3ms/step - loss: 0.1149 - accuracy: 0.9713\n",
      "Epoch 15/15\n",
      "469/469 [==============================] - 1s 3ms/step - loss: 0.1196 - accuracy: 0.9707\n",
      "79/79 [==============================] - 0s 2ms/step - loss: 0.1893 - accuracy: 0.9616\n"
     ]
    },
    {
     "data": {
      "text/plain": [
       "[0.18931512534618378, 0.9616000056266785]"
      ]
     },
     "execution_count": 16,
     "metadata": {},
     "output_type": "execute_result"
    },
    {
     "data": {
      "image/png": "[encoded data removed]",
      "text/plain": [
       "<Figure size 432x288 with 1 Axes>"
      ]
     },
     "metadata": {
      "needs_background": "light"
     },
     "output_type": "display_data"
    }
   ],
   "source": [
    "learning_rate = 0.02\n",
    "batch_size = 128\n",
    "epochs = 15\n",
    "\n",
    "# Create and train model\n",
    "model = create_model_DNN(learning_rate)\n",
    "epochs, accuracies = train_model_DNN(model, x_train, y_train, batch_size, epochs)\n",
    "plot_accuracy(epochs, accuracies)\n",
    "\n",
    "# Evaluate model\n",
    "model.evaluate(x=x_test, y=y_test, batch_size=batch_size)"
   ]
  },
  {
   "cell_type": "code",
   "execution_count": 17,
   "id": "a4d97e01",
   "metadata": {},
   "outputs": [],
   "source": [
    "# Optimization. Best performance achieved with 3 layers, high number of units in first layer - 64, then less in the \n",
    "# following layers, 32."
   ]
  },
  {
   "cell_type": "code",
   "execution_count": 18,
   "id": "19c5316a",
   "metadata": {},
   "outputs": [],
   "source": [
    "# Now time to try a CNN!\n",
    "def create_model_CNN(learning_rate):\n",
    "    \n",
    "    model = tf.keras.models.Sequential()\n",
    "    \n",
    "    model.add(tf.keras.layers.Conv2D(filters=32, kernel_size=5, activation='relu', input_shape=(28, 28, 1), kernel_initializer='he_uniform', padding='same'))\n",
    "    model.add(tf.keras.layers.MaxPooling2D())\n",
    "    model.add(tf.keras.layers.Dropout(0.4))\n",
    "    model.add(tf.keras.layers.Conv2D(filters=64, kernel_size=5, activation='relu', kernel_initializer='he_uniform', padding='same'))\n",
    "    model.add(tf.keras.layers.MaxPooling2D())\n",
    "    model.add(tf.keras.layers.Dropout(0.4))\n",
    "    model.add(tf.keras.layers.Flatten())\n",
    "    model.add(tf.keras.layers.Dense(units=128, activation='relu'))\n",
    "    model.add(tf.keras.layers.Dropout(0.4))\n",
    "    model.add(tf.keras.layers.Dense(units=10, activation='softmax'))\n",
    "    \n",
    "    model.compile(optimizer=tf.keras.optimizers.Adam(learning_rate=learning_rate), \n",
    "                  loss='categorical_crossentropy', \n",
    "                  metrics='accuracy')\n",
    "    \n",
    "    return model"
   ]
  },
  {
   "cell_type": "code",
   "execution_count": 19,
   "id": "802c8961",
   "metadata": {},
   "outputs": [],
   "source": [
    "x_train = np.reshape(x_train, (x_train.shape[0],x_train.shape[1],x_train.shape[2], 1))\n",
    "x_test = np.reshape(x_test, (x_test.shape[0],x_test.shape[1],x_test.shape[2], 1))"
   ]
  },
  {
   "cell_type": "code",
   "execution_count": 20,
   "id": "d3a822af",
   "metadata": {},
   "outputs": [],
   "source": [
    "def train_model_CNN(model, features, labels, batch_size, epochs, validation_split):\n",
    "    \n",
    "    history = model.fit(x=features, y=labels, batch_size=batch_size, epochs=epochs, shuffle=True, validation_split=validation_split)\n",
    "    \n",
    "    epochs = history.epoch\n",
    "    metrics = pd.DataFrame(history.history)\n",
    "    \n",
    "    return epochs, metrics"
   ]
  },
  {
   "cell_type": "code",
   "execution_count": 21,
   "id": "4e591f5b",
   "metadata": {},
   "outputs": [
    {
     "name": "stdout",
     "output_type": "stream",
     "text": [
      "Epoch 1/30\n",
      "422/422 [==============================] - 5s 6ms/step - loss: 0.6601 - accuracy: 0.7950 - val_loss: 0.1196 - val_accuracy: 0.9690\n",
      "Epoch 2/30\n",
      "422/422 [==============================] - 2s 6ms/step - loss: 0.3229 - accuracy: 0.9022 - val_loss: 0.0792 - val_accuracy: 0.9777\n",
      "Epoch 3/30\n",
      "422/422 [==============================] - 2s 6ms/step - loss: 0.2665 - accuracy: 0.9207 - val_loss: 0.0718 - val_accuracy: 0.9798\n",
      "Epoch 4/30\n",
      "422/422 [==============================] - 2s 6ms/step - loss: 0.2559 - accuracy: 0.9254 - val_loss: 0.0709 - val_accuracy: 0.9793\n",
      "Epoch 5/30\n",
      "422/422 [==============================] - 2s 6ms/step - loss: 0.2440 - accuracy: 0.9294 - val_loss: 0.0609 - val_accuracy: 0.9827\n",
      "Epoch 6/30\n",
      "422/422 [==============================] - 2s 6ms/step - loss: 0.2243 - accuracy: 0.9371 - val_loss: 0.0662 - val_accuracy: 0.9818\n",
      "Epoch 7/30\n",
      "422/422 [==============================] - 2s 6ms/step - loss: 0.2330 - accuracy: 0.9345 - val_loss: 0.0610 - val_accuracy: 0.9813\n",
      "Epoch 8/30\n",
      "422/422 [==============================] - 2s 6ms/step - loss: 0.2142 - accuracy: 0.9400 - val_loss: 0.0578 - val_accuracy: 0.9833\n",
      "Epoch 9/30\n",
      "422/422 [==============================] - 2s 6ms/step - loss: 0.2250 - accuracy: 0.9390 - val_loss: 0.0647 - val_accuracy: 0.9813\n",
      "Epoch 10/30\n",
      "422/422 [==============================] - 2s 6ms/step - loss: 0.2089 - accuracy: 0.9431 - val_loss: 0.0572 - val_accuracy: 0.9833\n",
      "Epoch 11/30\n",
      "422/422 [==============================] - 2s 6ms/step - loss: 0.2138 - accuracy: 0.9439 - val_loss: 0.0613 - val_accuracy: 0.9835\n",
      "Epoch 12/30\n",
      "422/422 [==============================] - 2s 6ms/step - loss: 0.1985 - accuracy: 0.9467 - val_loss: 0.0701 - val_accuracy: 0.9812\n",
      "Epoch 13/30\n",
      "422/422 [==============================] - 2s 6ms/step - loss: 0.2046 - accuracy: 0.9457 - val_loss: 0.0510 - val_accuracy: 0.9873\n",
      "Epoch 14/30\n",
      "422/422 [==============================] - 2s 6ms/step - loss: 0.2032 - accuracy: 0.9480 - val_loss: 0.0485 - val_accuracy: 0.9868\n",
      "Epoch 15/30\n",
      "422/422 [==============================] - 2s 6ms/step - loss: 0.2130 - accuracy: 0.9454 - val_loss: 0.0614 - val_accuracy: 0.9850\n",
      "Epoch 16/30\n",
      "422/422 [==============================] - 2s 6ms/step - loss: 0.2056 - accuracy: 0.9463 - val_loss: 0.0583 - val_accuracy: 0.9865\n",
      "Epoch 17/30\n",
      "422/422 [==============================] - 2s 6ms/step - loss: 0.2069 - accuracy: 0.9476 - val_loss: 0.0513 - val_accuracy: 0.9870\n",
      "Epoch 18/30\n",
      "422/422 [==============================] - 2s 6ms/step - loss: 0.1987 - accuracy: 0.9492 - val_loss: 0.0608 - val_accuracy: 0.9852\n",
      "Epoch 19/30\n",
      "422/422 [==============================] - 2s 6ms/step - loss: 0.1978 - accuracy: 0.9490 - val_loss: 0.0490 - val_accuracy: 0.9863\n",
      "Epoch 20/30\n",
      "422/422 [==============================] - 2s 6ms/step - loss: 0.2007 - accuracy: 0.9495 - val_loss: 0.0664 - val_accuracy: 0.9860\n",
      "Epoch 21/30\n",
      "422/422 [==============================] - 2s 6ms/step - loss: 0.1962 - accuracy: 0.9501 - val_loss: 0.0560 - val_accuracy: 0.9855\n",
      "Epoch 22/30\n",
      "422/422 [==============================] - 2s 6ms/step - loss: 0.1898 - accuracy: 0.9518 - val_loss: 0.0675 - val_accuracy: 0.9843\n",
      "Epoch 23/30\n",
      "422/422 [==============================] - 2s 6ms/step - loss: 0.1991 - accuracy: 0.9506 - val_loss: 0.0541 - val_accuracy: 0.9843\n",
      "Epoch 24/30\n",
      "422/422 [==============================] - 2s 6ms/step - loss: 0.2017 - accuracy: 0.9503 - val_loss: 0.0468 - val_accuracy: 0.9882\n",
      "Epoch 25/30\n",
      "422/422 [==============================] - 2s 6ms/step - loss: 0.2027 - accuracy: 0.9514 - val_loss: 0.0513 - val_accuracy: 0.9890\n",
      "Epoch 26/30\n",
      "422/422 [==============================] - 2s 6ms/step - loss: 0.2053 - accuracy: 0.9508 - val_loss: 0.0584 - val_accuracy: 0.9857\n",
      "Epoch 27/30\n",
      "422/422 [==============================] - 2s 6ms/step - loss: 0.2001 - accuracy: 0.9524 - val_loss: 0.0618 - val_accuracy: 0.9850\n",
      "Epoch 28/30\n",
      "422/422 [==============================] - 2s 6ms/step - loss: 0.1989 - accuracy: 0.9521 - val_loss: 0.0508 - val_accuracy: 0.9873\n",
      "Epoch 29/30\n",
      "422/422 [==============================] - 2s 6ms/step - loss: 0.1975 - accuracy: 0.9520 - val_loss: 0.0536 - val_accuracy: 0.9860\n",
      "Epoch 30/30\n",
      "422/422 [==============================] - 2s 6ms/step - loss: 0.2194 - accuracy: 0.9477 - val_loss: 0.0682 - val_accuracy: 0.9820\n",
      "79/79 [==============================] - 0s 3ms/step - loss: 0.0664 - accuracy: 0.9826\n"
     ]
    },
    {
     "data": {
      "text/plain": [
       "[0.06637633591890335, 0.9825999736785889]"
      ]
     },
     "execution_count": 21,
     "metadata": {},
     "output_type": "execute_result"
    },
    {
     "data": {
      "image/png": "[encoded data removed]",
      "text/plain": [
       "<Figure size 432x288 with 1 Axes>"
      ]
     },
     "metadata": {
      "needs_background": "light"
     },
     "output_type": "display_data"
    }
   ],
   "source": [
    "learning_rate = 0.01\n",
    "batch_size = 128\n",
    "epochs = 30\n",
    "validation_split = 0.1\n",
    "\n",
    "model = create_model_CNN(learning_rate)\n",
    "epochs, metrics = train_model_CNN(model, x_train, y_train, batch_size, epochs, validation_split)\n",
    "plot_accuracy(epochs, metrics)\n",
    "\n",
    "model.evaluate(x=x_test, y=y_test, batch_size=batch_size)"
   ]
  },
  {
   "cell_type": "code",
   "execution_count": null,
   "id": "bbcbe5f7",
   "metadata": {},
   "outputs": [],
   "source": []
  }
 ],
 "metadata": {
  "kernelspec": {
   "display_name": "Python 3 (ipykernel)",
   "language": "python",
   "name": "python3"
  },
  "language_info": {
   "codemirror_mode": {
    "name": "ipython",
    "version": 3
   },
   "file_extension": ".py",
   "mimetype": "text/x-python",
   "name": "python",
   "nbconvert_exporter": "python",
   "pygments_lexer": "ipython3",
   "version": "3.9.12"
  }
 },
 "nbformat": 4,
 "nbformat_minor": 5
}
